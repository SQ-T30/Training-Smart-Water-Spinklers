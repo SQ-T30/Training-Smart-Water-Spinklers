{
 "cells": [
  {
   "cell_type": "code",
   "execution_count": 1,
   "id": "bede05de",
   "metadata": {},
   "outputs": [],
   "source": [
    "import numpy as np\n",
    "import pandas as pd\n",
    "import seaborn as sb\n",
    "import matplotlib.pyplot as plt\n",
    "import xgboost as xgb\n",
    "\n",
    "from sklearn.metrics import mean_squared_error\n",
    "from sklearn.model_selection import TimeSeriesSplit\n",
    "\n",
    "sb.set()"
   ]
  },
  {
   "cell_type": "markdown",
   "id": "7adc89ba",
   "metadata": {
    "scrolled": false
   },
   "source": [
    "# Data Collection\n",
    "We'll be collecting the following data from the following sites, between the periods of Apr 2013 and Mar 2023.\n",
    "- Rainfall\n",
    "- Temperature\n",
    "\n",
    "(http://www.weather.gov.sg)\n",
    "\n",
    "- Humidity\n",
    "\n",
    "(https://www.wunderground.com)\n",
    "\n",
    "Some limitations/constraints when collecting our data:\n",
    "\n",
    "CSV files from weather.gov.sg are given in monthly format. However, there will be too much csv files to deal with if we concatenate them one by one in the notebook. Therefore we manually pasted monthly values into one csv file for each year\n",
    "\n",
    "The humidity data from wunderground.com was presented in HTML tables. However, due to some unknown formatting issues on that website, we could not extract the HTML table using pandas's read_html() function. Therefore we manually extracted the data from the tables and pasted them in the yearly csv files."
   ]
  },
  {
   "cell_type": "code",
   "execution_count": 13,
   "id": "6283aa35",
   "metadata": {
    "scrolled": false
   },
   "outputs": [
    {
     "name": "stdout",
     "output_type": "stream",
     "text": [
      "<class 'pandas.core.frame.DataFrame'>\n",
      "Int64Index: 3652 entries, 0 to 89\n",
      "Data columns (total 14 columns):\n",
      " #   Column                         Non-Null Count  Dtype  \n",
      "---  ------                         --------------  -----  \n",
      " 0   Station                        3652 non-null   object \n",
      " 1   Year                           3652 non-null   int64  \n",
      " 2   Month                          3652 non-null   int64  \n",
      " 3   Day                            3652 non-null   int64  \n",
      " 4   Daily Rainfall Total (mm)      3652 non-null   float64\n",
      " 5   Highest 30 min Rainfall (mm)   3652 non-null   object \n",
      " 6   Highest 60 min Rainfall (mm)   3652 non-null   object \n",
      " 7   Highest 120 min Rainfall (mm)  3652 non-null   object \n",
      " 8   Mean Temperature (°C)          3652 non-null   float64\n",
      " 9   Maximum Temperature (°C)       3652 non-null   float64\n",
      " 10  Minimum Temperature (°C)       3652 non-null   float64\n",
      " 11  Mean Wind Speed (km/h)         3652 non-null   object \n",
      " 12  Max Wind Speed (km/h)          3652 non-null   object \n",
      " 13  Mean Humidity (%)              3652 non-null   float64\n",
      "dtypes: float64(5), int64(3), object(6)\n",
      "memory usage: 428.0+ KB\n"
     ]
    }
   ],
   "source": [
    "rain13 = pd.read_csv('data/2013.csv', encoding = \"ISO-8859-1\") #Parameter required due to unknown format error in csv file\n",
    "rain14 = pd.read_csv('data/2014.csv', encoding = \"ISO-8859-1\") #Parameter required due to unknown format error in csv file\n",
    "rain15 = pd.read_csv('data/2015.csv', encoding = \"ISO-8859-1\") #Parameter required due to unknown format error in csv file\n",
    "rain16 = pd.read_csv('data/2016.csv', encoding = \"ISO-8859-1\") #Parameter required due to unknown format error in csv file\n",
    "rain17 = pd.read_csv('data/2017.csv', encoding = \"ISO-8859-1\") #Parameter required due to unknown format error in csv file\n",
    "rain18 = pd.read_csv('data/2018.csv', encoding = \"ISO-8859-1\") #Parameter required due to unknown format error in csv file\n",
    "rain19 = pd.read_csv('data/2019.csv', encoding = \"ISO-8859-1\") #Parameter required due to unknown format error in csv file\n",
    "rain20 = pd.read_csv('data/2020.csv')\n",
    "rain21 = pd.read_csv('data/2021.csv')\n",
    "rain22 = pd.read_csv('data/2022.csv')\n",
    "rain23 = pd.read_csv('data/2023.csv')\n",
    "rainData = pd.concat([rain13, rain14, rain15, rain16, rain17, rain18, rain19, rain20, rain21, rain22, rain23])\n",
    "rainData.info()"
   ]
  },
  {
   "cell_type": "markdown",
   "id": "aa4998ad",
   "metadata": {},
   "source": [
    "# Data Cleaning\n",
    "There are several columns that we'll not use for our prediction. For e.g,\n",
    "\n",
    "- Station\n",
    "\n",
    "All records were retrieved from Changi Weather Station, hence we do not need this column.\n",
    "\n",
    "- Highest 30 min Rainfall (mm)\n",
    "- Highest 60 min Rainfall (mm)\n",
    "- Highest 120 min Rainfall (mm)\n",
    "\n",
    "It does not make sense to use these rainfall values as our predictors, as we want to predict our total rainfall using datasets independent from rainfall.\n",
    "\n",
    "- Maximum Temperature (°C)\n",
    "- Minimum Temperature (°C)\n",
    "\n",
    "We'll be using Mean Temperature as one of our predictors, making these unncessary.\n",
    "\n",
    "- Mean Wind Speed (km/h)\n",
    "- Max Wind Speed (km/h)\n",
    "\n",
    "Wind Speed theoretically has no relationship with total rainfall amount, making these columns irrelevant\n",
    "\n",
    "Let's remove these columns to make our EDA and Machine Learning later easier."
   ]
  },
  {
   "cell_type": "code",
   "execution_count": 15,
   "id": "8d5c927c",
   "metadata": {
    "scrolled": false
   },
   "outputs": [
    {
     "data": {
      "text/html": [
       "<style type=\"text/css\">\n",
       "</style>\n",
       "<table id=\"T_e4fcd\">\n",
       "  <thead>\n",
       "    <tr>\n",
       "      <th id=\"T_e4fcd_level0_col0\" class=\"col_heading level0 col0\" >Year</th>\n",
       "      <th id=\"T_e4fcd_level0_col1\" class=\"col_heading level0 col1\" >Month</th>\n",
       "      <th id=\"T_e4fcd_level0_col2\" class=\"col_heading level0 col2\" >Day</th>\n",
       "      <th id=\"T_e4fcd_level0_col3\" class=\"col_heading level0 col3\" >Daily Rainfall Total (mm)</th>\n",
       "      <th id=\"T_e4fcd_level0_col4\" class=\"col_heading level0 col4\" >Mean Temperature (°C)</th>\n",
       "      <th id=\"T_e4fcd_level0_col5\" class=\"col_heading level0 col5\" >Mean Humidity (%)</th>\n",
       "    </tr>\n",
       "  </thead>\n",
       "  <tbody>\n",
       "    <tr>\n",
       "      <td id=\"T_e4fcd_row0_col0\" class=\"data row0 col0\" >2023</td>\n",
       "      <td id=\"T_e4fcd_row0_col1\" class=\"data row0 col1\" >3</td>\n",
       "      <td id=\"T_e4fcd_row0_col2\" class=\"data row0 col2\" >27</td>\n",
       "      <td id=\"T_e4fcd_row0_col3\" class=\"data row0 col3\" >19.400000</td>\n",
       "      <td id=\"T_e4fcd_row0_col4\" class=\"data row0 col4\" >26.000000</td>\n",
       "      <td id=\"T_e4fcd_row0_col5\" class=\"data row0 col5\" >90.700000</td>\n",
       "    </tr>\n",
       "    <tr>\n",
       "      <td id=\"T_e4fcd_row1_col0\" class=\"data row1 col0\" >2023</td>\n",
       "      <td id=\"T_e4fcd_row1_col1\" class=\"data row1 col1\" >3</td>\n",
       "      <td id=\"T_e4fcd_row1_col2\" class=\"data row1 col2\" >28</td>\n",
       "      <td id=\"T_e4fcd_row1_col3\" class=\"data row1 col3\" >0.000000</td>\n",
       "      <td id=\"T_e4fcd_row1_col4\" class=\"data row1 col4\" >28.800000</td>\n",
       "      <td id=\"T_e4fcd_row1_col5\" class=\"data row1 col5\" >80.600000</td>\n",
       "    </tr>\n",
       "    <tr>\n",
       "      <td id=\"T_e4fcd_row2_col0\" class=\"data row2 col0\" >2023</td>\n",
       "      <td id=\"T_e4fcd_row2_col1\" class=\"data row2 col1\" >3</td>\n",
       "      <td id=\"T_e4fcd_row2_col2\" class=\"data row2 col2\" >29</td>\n",
       "      <td id=\"T_e4fcd_row2_col3\" class=\"data row2 col3\" >0.000000</td>\n",
       "      <td id=\"T_e4fcd_row2_col4\" class=\"data row2 col4\" >28.800000</td>\n",
       "      <td id=\"T_e4fcd_row2_col5\" class=\"data row2 col5\" >79.700000</td>\n",
       "    </tr>\n",
       "    <tr>\n",
       "      <td id=\"T_e4fcd_row3_col0\" class=\"data row3 col0\" >2023</td>\n",
       "      <td id=\"T_e4fcd_row3_col1\" class=\"data row3 col1\" >3</td>\n",
       "      <td id=\"T_e4fcd_row3_col2\" class=\"data row3 col2\" >30</td>\n",
       "      <td id=\"T_e4fcd_row3_col3\" class=\"data row3 col3\" >9.200000</td>\n",
       "      <td id=\"T_e4fcd_row3_col4\" class=\"data row3 col4\" >28.400000</td>\n",
       "      <td id=\"T_e4fcd_row3_col5\" class=\"data row3 col5\" >80.300000</td>\n",
       "    </tr>\n",
       "    <tr>\n",
       "      <td id=\"T_e4fcd_row4_col0\" class=\"data row4 col0\" >2023</td>\n",
       "      <td id=\"T_e4fcd_row4_col1\" class=\"data row4 col1\" >3</td>\n",
       "      <td id=\"T_e4fcd_row4_col2\" class=\"data row4 col2\" >31</td>\n",
       "      <td id=\"T_e4fcd_row4_col3\" class=\"data row4 col3\" >0.000000</td>\n",
       "      <td id=\"T_e4fcd_row4_col4\" class=\"data row4 col4\" >28.700000</td>\n",
       "      <td id=\"T_e4fcd_row4_col5\" class=\"data row4 col5\" >80.100000</td>\n",
       "    </tr>\n",
       "  </tbody>\n",
       "</table>\n"
      ],
      "text/plain": [
       "<pandas.io.formats.style.Styler at 0x1dd0727cb80>"
      ]
     },
     "execution_count": 15,
     "metadata": {},
     "output_type": "execute_result"
    }
   ],
   "source": [
    "rainData = rainData[['Year','Month','Day','Daily Rainfall Total (mm)','Mean Temperature (°C)','Mean Humidity (%)']]\n",
    "\n",
    "rainData['Date'] = rainData['Year'].astype(str) + '-' + rainData['Month'].astype(str) + '-' + rainData['Day'].astype(str)\n",
    "rainData['Date'] = pd.to_datetime(rainData['Date'], infer_datetime_format=True)\n",
    "rainData = rainData.set_index('Date')\n",
    "rainData = rainData.sort_index()\n",
    "\n",
    "rainData['Month'] = rainData.index.month\n",
    "rainData['Year'] = rainData.index.year\n",
    "rainData.tail().style.hide(axis='index')"
   ]
  },
  {
   "cell_type": "code",
   "execution_count": 16,
   "id": "adf91c90",
   "metadata": {},
   "outputs": [
    {
     "name": "stdout",
     "output_type": "stream",
     "text": [
      "<class 'pandas.core.frame.DataFrame'>\n",
      "DatetimeIndex: 3652 entries, 2013-04-01 to 2023-03-31\n",
      "Data columns (total 6 columns):\n",
      " #   Column                     Non-Null Count  Dtype  \n",
      "---  ------                     --------------  -----  \n",
      " 0   Year                       3652 non-null   int64  \n",
      " 1   Month                      3652 non-null   int64  \n",
      " 2   Day                        3652 non-null   int64  \n",
      " 3   Daily Rainfall Total (mm)  3652 non-null   float64\n",
      " 4   Mean Temperature (°C)      3652 non-null   float64\n",
      " 5   Mean Humidity (%)          3652 non-null   float64\n",
      "dtypes: float64(3), int64(3)\n",
      "memory usage: 199.7 KB\n"
     ]
    }
   ],
   "source": [
    "rainData.info()"
   ]
  },
  {
   "cell_type": "markdown",
   "id": "2ee0ea71",
   "metadata": {},
   "source": [
    "Thankfully we do not have any null values in our records after removing unnecessary columns. \n",
    "To be safe, let's check if there are any cells with invalid (i.e. negative) values that would affect our EDA and Machine Learning later on."
   ]
  },
  {
   "cell_type": "code",
   "execution_count": 17,
   "id": "538f689f",
   "metadata": {},
   "outputs": [
    {
     "name": "stdout",
     "output_type": "stream",
     "text": [
      "Rainfall with Negative Value:  0\n",
      "Temperature with Negative Value:  0\n",
      "Humidity with Negative Value:  0\n"
     ]
    }
   ],
   "source": [
    "print(\"Rainfall with Negative Value: \", len(rainData[rainData['Daily Rainfall Total (mm)'] < 0]))\n",
    "print(\"Temperature with Negative Value: \", len(rainData[rainData['Mean Temperature (°C)'] < 0]))\n",
    "print(\"Humidity with Negative Value: \", len(rainData[rainData['Mean Humidity (%)'] < 0]))"
   ]
  },
  {
   "cell_type": "markdown",
   "id": "2eef80a2",
   "metadata": {},
   "source": [
    "Finally, Let's export our cleaned data to be used by our EDA and Machine Learning Sections later."
   ]
  },
  {
   "cell_type": "code",
   "execution_count": 18,
   "id": "df0dbdf3",
   "metadata": {},
   "outputs": [],
   "source": [
    "rainData.to_csv('data/rainData.csv') "
   ]
  }
 ],
 "metadata": {
  "kernelspec": {
   "display_name": "Python 3 (ipykernel)",
   "language": "python",
   "name": "python3"
  },
  "language_info": {
   "codemirror_mode": {
    "name": "ipython",
    "version": 3
   },
   "file_extension": ".py",
   "mimetype": "text/x-python",
   "name": "python",
   "nbconvert_exporter": "python",
   "pygments_lexer": "ipython3",
   "version": "3.9.13"
  }
 },
 "nbformat": 4,
 "nbformat_minor": 5
}
